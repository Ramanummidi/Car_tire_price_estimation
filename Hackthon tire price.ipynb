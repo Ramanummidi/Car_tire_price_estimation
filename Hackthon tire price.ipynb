{
 "cells": [
  {
   "cell_type": "code",
   "execution_count": 42,
   "id": "3e5071e3-0fa3-4a3e-940a-bd2b39a813b3",
   "metadata": {},
   "outputs": [],
   "source": [
    "import pandas as pd\n",
    "import numpy as np\n",
    "import seaborn as sns\n",
    "import matplotlib.pyplot as plt\n",
    "from sklearn.model_selection import train_test_split\n",
    "from sklearn.preprocessing import MinMaxScaler"
   ]
  },
  {
   "cell_type": "code",
   "execution_count": 43,
   "id": "90fb0caf-584c-4a51-b74e-64afcd253e39",
   "metadata": {},
   "outputs": [],
   "source": [
    "train=pd.read_csv(\"D:\\\\IDMA\\\\ML Course\\CarPrice_Assignment_train_unclean.csv\")\n",
    "test=pd.read_csv(\"D:\\\\IDMA\\\\ML Course\\CarPrice_Assignment_test.csv\")"
   ]
  },
  {
   "cell_type": "code",
   "execution_count": 44,
   "id": "ef0059bf-6c20-4208-8e6d-d17f613cb2f8",
   "metadata": {},
   "outputs": [
    {
     "name": "stdout",
     "output_type": "stream",
     "text": [
      "<class 'pandas.core.frame.DataFrame'>\n",
      "RangeIndex: 153 entries, 0 to 152\n",
      "Data columns (total 25 columns):\n",
      " #   Column            Non-Null Count  Dtype  \n",
      "---  ------            --------------  -----  \n",
      " 0   symboling         153 non-null    int64  \n",
      " 1   CarName           153 non-null    object \n",
      " 2   fueltype          150 non-null    object \n",
      " 3   aspiration        151 non-null    object \n",
      " 4   doornumber        152 non-null    object \n",
      " 5   carbody           153 non-null    object \n",
      " 6   drivewheel        153 non-null    object \n",
      " 7   enginelocation    142 non-null    object \n",
      " 8   wheelbase         151 non-null    float64\n",
      " 9   carlength         150 non-null    float64\n",
      " 10  carwidth          149 non-null    float64\n",
      " 11  carheight         151 non-null    float64\n",
      " 12  curbweight        152 non-null    float64\n",
      " 13  enginetype        153 non-null    object \n",
      " 14  cylindernumber    152 non-null    object \n",
      " 15  enginesize        153 non-null    int64  \n",
      " 16  fuelsystem        153 non-null    object \n",
      " 17  boreratio         151 non-null    float64\n",
      " 18  stroke            150 non-null    float64\n",
      " 19  compressionratio  151 non-null    float64\n",
      " 20  horsepower        153 non-null    int64  \n",
      " 21  peakrpm           146 non-null    float64\n",
      " 22  citympg           150 non-null    float64\n",
      " 23  highwaympg        150 non-null    float64\n",
      " 24  price             153 non-null    float64\n",
      "dtypes: float64(12), int64(3), object(10)\n",
      "memory usage: 30.0+ KB\n"
     ]
    }
   ],
   "source": [
    "train.info()"
   ]
  },
  {
   "cell_type": "code",
   "execution_count": 45,
   "id": "363d9efc-d4c7-4682-809d-9c0453e54db3",
   "metadata": {},
   "outputs": [
    {
     "data": {
      "text/plain": [
       "symboling            0\n",
       "CarName              0\n",
       "fueltype             3\n",
       "aspiration           2\n",
       "doornumber           1\n",
       "carbody              0\n",
       "drivewheel           0\n",
       "enginelocation      11\n",
       "wheelbase            2\n",
       "carlength            3\n",
       "carwidth             4\n",
       "carheight            2\n",
       "curbweight           1\n",
       "enginetype           0\n",
       "cylindernumber       1\n",
       "enginesize           0\n",
       "fuelsystem           0\n",
       "boreratio            2\n",
       "stroke               3\n",
       "compressionratio     2\n",
       "horsepower           0\n",
       "peakrpm              7\n",
       "citympg              3\n",
       "highwaympg           3\n",
       "price                0\n",
       "dtype: int64"
      ]
     },
     "execution_count": 45,
     "metadata": {},
     "output_type": "execute_result"
    }
   ],
   "source": [
    "train.isna().sum()"
   ]
  },
  {
   "cell_type": "code",
   "execution_count": 46,
   "id": "53af2166-8240-49d0-a435-39eac7be13ee",
   "metadata": {},
   "outputs": [],
   "source": [
    "for column in train['fueltype']:\n",
    "    train['fueltype'].fillna(train['fueltype'].mode()[0], inplace=True)\n",
    "for column in train['aspiration']:\n",
    "    train['aspiration'].fillna(train['aspiration'].mode()[0], inplace=True)\n",
    "for column in train['doornumber']:\n",
    "    train['doornumber'].fillna(train['doornumber'].mode()[0], inplace=True)\n",
    "for column in train['enginelocation']:\n",
    "    train['enginelocation'].fillna(train['enginelocation'].mode()[0], inplace=True)\n",
    "for column in train['cylindernumber']:\n",
    "    train['cylindernumber'].fillna(train['cylindernumber'].mode()[0], inplace=True)"
   ]
  },
  {
   "cell_type": "code",
   "execution_count": 47,
   "id": "250bedf7-b96f-405f-966d-49b55aeb0353",
   "metadata": {},
   "outputs": [],
   "source": [
    "train['wheelbase'].fillna(train['wheelbase'].mean(), inplace=True)\n",
    "train['carlength'].fillna(train['carlength'].mean(), inplace=True)\n",
    "train['carwidth'].fillna(train['carwidth'].mean(), inplace=True)\n",
    "train['carheight'].fillna(train['carheight'].mean(), inplace=True)\n",
    "train['curbweight'].fillna(train['curbweight'].mean(), inplace=True)\n",
    "train['boreratio'].fillna(train['boreratio'].mean(), inplace=True)\n",
    "train['stroke'].fillna(train['stroke'].mean(), inplace=True)\n",
    "train['compressionratio'].fillna(train['compressionratio'].mean(), inplace=True)\n",
    "train['peakrpm'].fillna(train['peakrpm'].mean(), inplace=True)\n",
    "train['citympg'].fillna(train['citympg'].mean(), inplace=True)\n",
    "train['highwaympg'].fillna(train['highwaympg'].mean(), inplace=True)"
   ]
  },
  {
   "cell_type": "code",
   "execution_count": 48,
   "id": "4d9e307e-a6f1-4fe3-8ca2-aee64133b5de",
   "metadata": {},
   "outputs": [
    {
     "data": {
      "text/plain": [
       "symboling           0\n",
       "CarName             0\n",
       "fueltype            0\n",
       "aspiration          0\n",
       "doornumber          0\n",
       "carbody             0\n",
       "drivewheel          0\n",
       "enginelocation      0\n",
       "wheelbase           0\n",
       "carlength           0\n",
       "carwidth            0\n",
       "carheight           0\n",
       "curbweight          0\n",
       "enginetype          0\n",
       "cylindernumber      0\n",
       "enginesize          0\n",
       "fuelsystem          0\n",
       "boreratio           0\n",
       "stroke              0\n",
       "compressionratio    0\n",
       "horsepower          0\n",
       "peakrpm             0\n",
       "citympg             0\n",
       "highwaympg          0\n",
       "price               0\n",
       "dtype: int64"
      ]
     },
     "execution_count": 48,
     "metadata": {},
     "output_type": "execute_result"
    }
   ],
   "source": [
    "train.isna().sum()"
   ]
  },
  {
   "cell_type": "code",
   "execution_count": 49,
   "id": "0593aabe-36c1-40f4-8809-d701080ce7a0",
   "metadata": {},
   "outputs": [
    {
     "data": {
      "text/plain": [
       "symboling            0\n",
       "CarName              0\n",
       "fueltype             0\n",
       "aspiration           0\n",
       "doornumber           0\n",
       "carbody              0\n",
       "drivewheel           0\n",
       "enginelocation       0\n",
       "wheelbase            0\n",
       "carlength            0\n",
       "carwidth             0\n",
       "carheight            0\n",
       "curbweight           0\n",
       "enginetype           0\n",
       "cylindernumber       0\n",
       "enginesize           0\n",
       "fuelsystem           0\n",
       "boreratio            0\n",
       "stroke               0\n",
       "compressionratio     0\n",
       "horsepower           0\n",
       "peakrpm              0\n",
       "citympg              0\n",
       "highwaympg           0\n",
       "price               52\n",
       "dtype: int64"
      ]
     },
     "execution_count": 49,
     "metadata": {},
     "output_type": "execute_result"
    }
   ],
   "source": [
    "test.isna().sum()"
   ]
  },
  {
   "cell_type": "code",
   "execution_count": 50,
   "id": "d7cefee1-d72d-4fed-b49d-b0ac77450743",
   "metadata": {},
   "outputs": [
    {
     "data": {
      "text/html": [
       "<div>\n",
       "<style scoped>\n",
       "    .dataframe tbody tr th:only-of-type {\n",
       "        vertical-align: middle;\n",
       "    }\n",
       "\n",
       "    .dataframe tbody tr th {\n",
       "        vertical-align: top;\n",
       "    }\n",
       "\n",
       "    .dataframe thead th {\n",
       "        text-align: right;\n",
       "    }\n",
       "</style>\n",
       "<table border=\"1\" class=\"dataframe\">\n",
       "  <thead>\n",
       "    <tr style=\"text-align: right;\">\n",
       "      <th></th>\n",
       "      <th>symboling</th>\n",
       "      <th>Company</th>\n",
       "      <th>fueltype</th>\n",
       "      <th>aspiration</th>\n",
       "      <th>doornumber</th>\n",
       "      <th>carbody</th>\n",
       "      <th>drivewheel</th>\n",
       "      <th>enginelocation</th>\n",
       "      <th>wheelbase</th>\n",
       "      <th>carlength</th>\n",
       "      <th>...</th>\n",
       "      <th>cylindernumber</th>\n",
       "      <th>enginesize</th>\n",
       "      <th>fuelsystem</th>\n",
       "      <th>boreratio</th>\n",
       "      <th>stroke</th>\n",
       "      <th>compressionratio</th>\n",
       "      <th>horsepower</th>\n",
       "      <th>peakrpm</th>\n",
       "      <th>price</th>\n",
       "      <th>total_mpg</th>\n",
       "    </tr>\n",
       "  </thead>\n",
       "  <tbody>\n",
       "    <tr>\n",
       "      <th>0</th>\n",
       "      <td>2</td>\n",
       "      <td>audi</td>\n",
       "      <td>gas</td>\n",
       "      <td>std</td>\n",
       "      <td>four</td>\n",
       "      <td>sedan</td>\n",
       "      <td>fwd</td>\n",
       "      <td>front</td>\n",
       "      <td>99.8</td>\n",
       "      <td>176.6</td>\n",
       "      <td>...</td>\n",
       "      <td>four</td>\n",
       "      <td>109</td>\n",
       "      <td>mpfi</td>\n",
       "      <td>3.19</td>\n",
       "      <td>3.40</td>\n",
       "      <td>10.0</td>\n",
       "      <td>102</td>\n",
       "      <td>5500.000000</td>\n",
       "      <td>13950.0</td>\n",
       "      <td>26.70</td>\n",
       "    </tr>\n",
       "    <tr>\n",
       "      <th>1</th>\n",
       "      <td>0</td>\n",
       "      <td>peugeot</td>\n",
       "      <td>gas</td>\n",
       "      <td>std</td>\n",
       "      <td>four</td>\n",
       "      <td>wagon</td>\n",
       "      <td>rwd</td>\n",
       "      <td>front</td>\n",
       "      <td>114.2</td>\n",
       "      <td>198.9</td>\n",
       "      <td>...</td>\n",
       "      <td>four</td>\n",
       "      <td>120</td>\n",
       "      <td>mpfi</td>\n",
       "      <td>3.46</td>\n",
       "      <td>2.19</td>\n",
       "      <td>8.4</td>\n",
       "      <td>95</td>\n",
       "      <td>5000.000000</td>\n",
       "      <td>16695.0</td>\n",
       "      <td>21.25</td>\n",
       "    </tr>\n",
       "    <tr>\n",
       "      <th>2</th>\n",
       "      <td>3</td>\n",
       "      <td>mitsubishi</td>\n",
       "      <td>gas</td>\n",
       "      <td>turbo</td>\n",
       "      <td>two</td>\n",
       "      <td>hatchback</td>\n",
       "      <td>fwd</td>\n",
       "      <td>front</td>\n",
       "      <td>95.9</td>\n",
       "      <td>173.2</td>\n",
       "      <td>...</td>\n",
       "      <td>four</td>\n",
       "      <td>156</td>\n",
       "      <td>spdi</td>\n",
       "      <td>3.58</td>\n",
       "      <td>3.86</td>\n",
       "      <td>7.0</td>\n",
       "      <td>145</td>\n",
       "      <td>5000.000000</td>\n",
       "      <td>12629.0</td>\n",
       "      <td>21.25</td>\n",
       "    </tr>\n",
       "    <tr>\n",
       "      <th>3</th>\n",
       "      <td>1</td>\n",
       "      <td>toyota</td>\n",
       "      <td>gas</td>\n",
       "      <td>std</td>\n",
       "      <td>two</td>\n",
       "      <td>hatchback</td>\n",
       "      <td>fwd</td>\n",
       "      <td>front</td>\n",
       "      <td>95.7</td>\n",
       "      <td>158.7</td>\n",
       "      <td>...</td>\n",
       "      <td>four</td>\n",
       "      <td>92</td>\n",
       "      <td>2bbl</td>\n",
       "      <td>3.05</td>\n",
       "      <td>3.03</td>\n",
       "      <td>9.0</td>\n",
       "      <td>62</td>\n",
       "      <td>4800.000000</td>\n",
       "      <td>6338.0</td>\n",
       "      <td>34.15</td>\n",
       "    </tr>\n",
       "    <tr>\n",
       "      <th>4</th>\n",
       "      <td>2</td>\n",
       "      <td>toyota</td>\n",
       "      <td>gas</td>\n",
       "      <td>std</td>\n",
       "      <td>two</td>\n",
       "      <td>convertible</td>\n",
       "      <td>rwd</td>\n",
       "      <td>front</td>\n",
       "      <td>98.4</td>\n",
       "      <td>176.2</td>\n",
       "      <td>...</td>\n",
       "      <td>four</td>\n",
       "      <td>146</td>\n",
       "      <td>mpfi</td>\n",
       "      <td>3.62</td>\n",
       "      <td>3.50</td>\n",
       "      <td>9.3</td>\n",
       "      <td>116</td>\n",
       "      <td>5096.232877</td>\n",
       "      <td>17669.0</td>\n",
       "      <td>26.70</td>\n",
       "    </tr>\n",
       "  </tbody>\n",
       "</table>\n",
       "<p>5 rows × 24 columns</p>\n",
       "</div>"
      ],
      "text/plain": [
       "  symboling     Company fueltype aspiration doornumber      carbody  \\\n",
       "0         2        audi      gas        std       four        sedan   \n",
       "1         0     peugeot      gas        std       four        wagon   \n",
       "2         3  mitsubishi      gas      turbo        two    hatchback   \n",
       "3         1      toyota      gas        std        two    hatchback   \n",
       "4         2      toyota      gas        std        two  convertible   \n",
       "\n",
       "  drivewheel enginelocation  wheelbase  carlength  ...  cylindernumber  \\\n",
       "0        fwd          front       99.8      176.6  ...            four   \n",
       "1        rwd          front      114.2      198.9  ...            four   \n",
       "2        fwd          front       95.9      173.2  ...            four   \n",
       "3        fwd          front       95.7      158.7  ...            four   \n",
       "4        rwd          front       98.4      176.2  ...            four   \n",
       "\n",
       "   enginesize  fuelsystem boreratio stroke  compressionratio horsepower  \\\n",
       "0         109        mpfi      3.19   3.40              10.0        102   \n",
       "1         120        mpfi      3.46   2.19               8.4         95   \n",
       "2         156        spdi      3.58   3.86               7.0        145   \n",
       "3          92        2bbl      3.05   3.03               9.0         62   \n",
       "4         146        mpfi      3.62   3.50               9.3        116   \n",
       "\n",
       "       peakrpm    price  total_mpg  \n",
       "0  5500.000000  13950.0      26.70  \n",
       "1  5000.000000  16695.0      21.25  \n",
       "2  5000.000000  12629.0      21.25  \n",
       "3  4800.000000   6338.0      34.15  \n",
       "4  5096.232877  17669.0      26.70  \n",
       "\n",
       "[5 rows x 24 columns]"
      ]
     },
     "execution_count": 50,
     "metadata": {},
     "output_type": "execute_result"
    }
   ],
   "source": [
    "train['CarName']=train['CarName'].apply(lambda name: name.split()[0])\n",
    "train.rename(index=str,columns={'CarName':'Company'},inplace=True)\n",
    "train['total_mpg']=(55*train['citympg']/100)+(45*train['highwaympg']/100)\n",
    "train.drop(['citympg','highwaympg'],axis=1,inplace=True)\n",
    "train.symboling=train.symboling.astype(str)\n",
    "train.head()"
   ]
  },
  {
   "cell_type": "code",
   "execution_count": 51,
   "id": "eb73985d-12c7-431f-8733-d00c35713b37",
   "metadata": {},
   "outputs": [
    {
     "data": {
      "text/html": [
       "<div>\n",
       "<style scoped>\n",
       "    .dataframe tbody tr th:only-of-type {\n",
       "        vertical-align: middle;\n",
       "    }\n",
       "\n",
       "    .dataframe tbody tr th {\n",
       "        vertical-align: top;\n",
       "    }\n",
       "\n",
       "    .dataframe thead th {\n",
       "        text-align: right;\n",
       "    }\n",
       "</style>\n",
       "<table border=\"1\" class=\"dataframe\">\n",
       "  <thead>\n",
       "    <tr style=\"text-align: right;\">\n",
       "      <th></th>\n",
       "      <th>symboling</th>\n",
       "      <th>Company</th>\n",
       "      <th>fueltype</th>\n",
       "      <th>aspiration</th>\n",
       "      <th>doornumber</th>\n",
       "      <th>carbody</th>\n",
       "      <th>drivewheel</th>\n",
       "      <th>enginelocation</th>\n",
       "      <th>wheelbase</th>\n",
       "      <th>carlength</th>\n",
       "      <th>...</th>\n",
       "      <th>cylindernumber</th>\n",
       "      <th>enginesize</th>\n",
       "      <th>fuelsystem</th>\n",
       "      <th>boreratio</th>\n",
       "      <th>stroke</th>\n",
       "      <th>compressionratio</th>\n",
       "      <th>horsepower</th>\n",
       "      <th>peakrpm</th>\n",
       "      <th>price</th>\n",
       "      <th>total_mpg</th>\n",
       "    </tr>\n",
       "  </thead>\n",
       "  <tbody>\n",
       "    <tr>\n",
       "      <th>0</th>\n",
       "      <td>2</td>\n",
       "      <td>saab</td>\n",
       "      <td>gas</td>\n",
       "      <td>turbo</td>\n",
       "      <td>four</td>\n",
       "      <td>sedan</td>\n",
       "      <td>fwd</td>\n",
       "      <td>front</td>\n",
       "      <td>99.1</td>\n",
       "      <td>186.6</td>\n",
       "      <td>...</td>\n",
       "      <td>four</td>\n",
       "      <td>121</td>\n",
       "      <td>mpfi</td>\n",
       "      <td>3.54</td>\n",
       "      <td>3.07</td>\n",
       "      <td>9.0</td>\n",
       "      <td>160</td>\n",
       "      <td>5500</td>\n",
       "      <td>NaN</td>\n",
       "      <td>22.15</td>\n",
       "    </tr>\n",
       "    <tr>\n",
       "      <th>1</th>\n",
       "      <td>3</td>\n",
       "      <td>saab</td>\n",
       "      <td>gas</td>\n",
       "      <td>std</td>\n",
       "      <td>two</td>\n",
       "      <td>hatchback</td>\n",
       "      <td>fwd</td>\n",
       "      <td>front</td>\n",
       "      <td>99.1</td>\n",
       "      <td>186.6</td>\n",
       "      <td>...</td>\n",
       "      <td>four</td>\n",
       "      <td>121</td>\n",
       "      <td>mpfi</td>\n",
       "      <td>2.54</td>\n",
       "      <td>2.07</td>\n",
       "      <td>9.3</td>\n",
       "      <td>110</td>\n",
       "      <td>5250</td>\n",
       "      <td>NaN</td>\n",
       "      <td>24.15</td>\n",
       "    </tr>\n",
       "    <tr>\n",
       "      <th>2</th>\n",
       "      <td>2</td>\n",
       "      <td>subaru</td>\n",
       "      <td>gas</td>\n",
       "      <td>std</td>\n",
       "      <td>two</td>\n",
       "      <td>hatchback</td>\n",
       "      <td>fwd</td>\n",
       "      <td>front</td>\n",
       "      <td>93.7</td>\n",
       "      <td>157.9</td>\n",
       "      <td>...</td>\n",
       "      <td>four</td>\n",
       "      <td>108</td>\n",
       "      <td>2bbl</td>\n",
       "      <td>3.62</td>\n",
       "      <td>2.64</td>\n",
       "      <td>8.7</td>\n",
       "      <td>73</td>\n",
       "      <td>4400</td>\n",
       "      <td>NaN</td>\n",
       "      <td>28.25</td>\n",
       "    </tr>\n",
       "    <tr>\n",
       "      <th>3</th>\n",
       "      <td>1</td>\n",
       "      <td>nissan</td>\n",
       "      <td>gas</td>\n",
       "      <td>std</td>\n",
       "      <td>two</td>\n",
       "      <td>hatchback</td>\n",
       "      <td>fwd</td>\n",
       "      <td>front</td>\n",
       "      <td>94.5</td>\n",
       "      <td>165.6</td>\n",
       "      <td>...</td>\n",
       "      <td>four</td>\n",
       "      <td>97</td>\n",
       "      <td>2bbl</td>\n",
       "      <td>3.15</td>\n",
       "      <td>3.29</td>\n",
       "      <td>9.4</td>\n",
       "      <td>69</td>\n",
       "      <td>5200</td>\n",
       "      <td>NaN</td>\n",
       "      <td>33.70</td>\n",
       "    </tr>\n",
       "    <tr>\n",
       "      <th>4</th>\n",
       "      <td>1</td>\n",
       "      <td>toyota</td>\n",
       "      <td>gas</td>\n",
       "      <td>std</td>\n",
       "      <td>two</td>\n",
       "      <td>sedan</td>\n",
       "      <td>rwd</td>\n",
       "      <td>front</td>\n",
       "      <td>94.5</td>\n",
       "      <td>168.7</td>\n",
       "      <td>...</td>\n",
       "      <td>four</td>\n",
       "      <td>98</td>\n",
       "      <td>mpfi</td>\n",
       "      <td>3.24</td>\n",
       "      <td>3.08</td>\n",
       "      <td>9.4</td>\n",
       "      <td>112</td>\n",
       "      <td>6600</td>\n",
       "      <td>NaN</td>\n",
       "      <td>27.35</td>\n",
       "    </tr>\n",
       "  </tbody>\n",
       "</table>\n",
       "<p>5 rows × 24 columns</p>\n",
       "</div>"
      ],
      "text/plain": [
       "  symboling Company fueltype aspiration doornumber    carbody drivewheel  \\\n",
       "0         2    saab      gas      turbo       four      sedan        fwd   \n",
       "1         3    saab      gas        std        two  hatchback        fwd   \n",
       "2         2  subaru      gas        std        two  hatchback        fwd   \n",
       "3         1  nissan      gas        std        two  hatchback        fwd   \n",
       "4         1  toyota      gas        std        two      sedan        rwd   \n",
       "\n",
       "  enginelocation  wheelbase  carlength  ...  cylindernumber  enginesize  \\\n",
       "0          front       99.1      186.6  ...            four         121   \n",
       "1          front       99.1      186.6  ...            four         121   \n",
       "2          front       93.7      157.9  ...            four         108   \n",
       "3          front       94.5      165.6  ...            four          97   \n",
       "4          front       94.5      168.7  ...            four          98   \n",
       "\n",
       "   fuelsystem boreratio stroke  compressionratio horsepower  peakrpm  price  \\\n",
       "0        mpfi      3.54   3.07               9.0        160     5500    NaN   \n",
       "1        mpfi      2.54   2.07               9.3        110     5250    NaN   \n",
       "2        2bbl      3.62   2.64               8.7         73     4400    NaN   \n",
       "3        2bbl      3.15   3.29               9.4         69     5200    NaN   \n",
       "4        mpfi      3.24   3.08               9.4        112     6600    NaN   \n",
       "\n",
       "   total_mpg  \n",
       "0      22.15  \n",
       "1      24.15  \n",
       "2      28.25  \n",
       "3      33.70  \n",
       "4      27.35  \n",
       "\n",
       "[5 rows x 24 columns]"
      ]
     },
     "execution_count": 51,
     "metadata": {},
     "output_type": "execute_result"
    }
   ],
   "source": [
    "test['CarName']=test['CarName'].apply(lambda name: name.split()[0])\n",
    "test.rename(index=str,columns={'CarName':'Company'},inplace=True)\n",
    "test['total_mpg']=(55*test['citympg']/100)+(45*test['highwaympg']/100)\n",
    "test.drop(['citympg','highwaympg'],axis=1,inplace=True)\n",
    "test.symboling=test.symboling.astype(str)\n",
    "test.head()"
   ]
  },
  {
   "cell_type": "code",
   "execution_count": 52,
   "id": "901b4c3e-c420-4db1-b824-dd46f7114fd5",
   "metadata": {},
   "outputs": [
    {
     "data": {
      "text/plain": [
       "Company\n",
       "Nissan          5499.000000\n",
       "maxda           5645.000000\n",
       "chevrolet       6007.000000\n",
       "plymouth        7350.200000\n",
       "vokswagen       7775.000000\n",
       "honda           7874.555556\n",
       "dodge           8127.571429\n",
       "subaru          8246.500000\n",
       "volkswagen      9416.666667\n",
       "renault         9595.000000\n",
       "isuzu           9627.000000\n",
       "mitsubishi      9648.000000\n",
       "toyota          9702.818182\n",
       "mazda          10606.461538\n",
       "nissan         11907.333333\n",
       "saab           13176.666667\n",
       "peugeot        15489.090909\n",
       "toyouta        15750.000000\n",
       "alfa-romero    16500.000000\n",
       "mercury        16503.000000\n",
       "volvo          17573.888889\n",
       "audi           17970.833400\n",
       "bmw            27812.500000\n",
       "porsche        31024.666667\n",
       "porcshce       32528.000000\n",
       "jaguar         33900.000000\n",
       "buick          34900.000000\n",
       "Name: price, dtype: float64"
      ]
     },
     "execution_count": 52,
     "metadata": {},
     "output_type": "execute_result"
    }
   ],
   "source": [
    "temp = train.copy()\n",
    "temp.head()\n",
    "table = temp.groupby(['Company'])['price'].mean()\n",
    "table.sort_values(ascending=True)"
   ]
  },
  {
   "cell_type": "code",
   "execution_count": 53,
   "id": "041321b5-ec90-4624-9618-02e1189a9a82",
   "metadata": {},
   "outputs": [
    {
     "data": {
      "text/plain": [
       "array(['audi', 'peugeot', 'mitsubishi', 'toyota', 'subaru', 'porsche',\n",
       "       'volvo', 'maxda', 'jaguar', 'mazda', 'bmw', 'volkswagen', 'nissan',\n",
       "       'honda', 'alfa-romero', 'dodge', 'porcshce', 'vokswagen',\n",
       "       'toyouta', 'buick', 'chevrolet', 'plymouth', 'mercury', 'saab',\n",
       "       'renault', 'isuzu', 'Nissan'], dtype=object)"
      ]
     },
     "execution_count": 53,
     "metadata": {},
     "output_type": "execute_result"
    }
   ],
   "source": [
    "train.Company.unique()"
   ]
  },
  {
   "cell_type": "code",
   "execution_count": 54,
   "id": "df018d1f-fc83-45b9-b2ad-d2312d782985",
   "metadata": {},
   "outputs": [],
   "source": [
    "train.Company.replace('maxda','mazda',inplace=True)\n",
    "train.Company.replace('Nissan','nissan',inplace=True)\n",
    "train.Company.replace('porcshce','porsche',inplace=True)\n",
    "train.Company.replace('toyouta','toyota',inplace=True)\n",
    "train.Company.replace('vokswagen','volkswagen',inplace=True)"
   ]
  },
  {
   "cell_type": "code",
   "execution_count": 55,
   "id": "86110da3-d441-4544-969c-36f7b27d1a88",
   "metadata": {},
   "outputs": [
    {
     "data": {
      "text/plain": [
       "array(['audi', 'peugeot', 'mitsubishi', 'toyota', 'subaru', 'porsche',\n",
       "       'volvo', 'mazda', 'jaguar', 'bmw', 'volkswagen', 'nissan', 'honda',\n",
       "       'alfa-romero', 'dodge', 'buick', 'chevrolet', 'plymouth',\n",
       "       'mercury', 'saab', 'renault', 'isuzu'], dtype=object)"
      ]
     },
     "execution_count": 55,
     "metadata": {},
     "output_type": "execute_result"
    }
   ],
   "source": [
    "train.Company.unique()"
   ]
  },
  {
   "cell_type": "code",
   "execution_count": 56,
   "id": "15505ca6-124f-484b-912d-79800d53917e",
   "metadata": {},
   "outputs": [
    {
     "data": {
      "text/plain": [
       "array(['saab', 'subaru', 'nissan', 'toyota', 'volkswagen', 'vw',\n",
       "       'plymouth', 'alfa-romero', 'dodge', 'buick', 'audi', 'jaguar',\n",
       "       'porsche', 'mitsubishi', 'volvo', 'isuzu', 'mazda', 'bmw', 'honda'],\n",
       "      dtype=object)"
      ]
     },
     "execution_count": 56,
     "metadata": {},
     "output_type": "execute_result"
    }
   ],
   "source": [
    "test.Company.unique()"
   ]
  },
  {
   "cell_type": "code",
   "execution_count": 57,
   "id": "74374937-67b0-44ad-bbf4-c6513f756c61",
   "metadata": {},
   "outputs": [],
   "source": [
    "test.Company.replace('vw','volkswagen',inplace=True)"
   ]
  },
  {
   "cell_type": "code",
   "execution_count": 58,
   "id": "661be1ae-b24b-4e5b-be39-3fdbafd11841",
   "metadata": {},
   "outputs": [
    {
     "data": {
      "text/plain": [
       "array(['saab', 'subaru', 'nissan', 'toyota', 'volkswagen', 'plymouth',\n",
       "       'alfa-romero', 'dodge', 'buick', 'audi', 'jaguar', 'porsche',\n",
       "       'mitsubishi', 'volvo', 'isuzu', 'mazda', 'bmw', 'honda'],\n",
       "      dtype=object)"
      ]
     },
     "execution_count": 58,
     "metadata": {},
     "output_type": "execute_result"
    }
   ],
   "source": [
    "test.Company.unique()"
   ]
  },
  {
   "cell_type": "code",
   "execution_count": 59,
   "id": "ee7c346f-8be5-4d36-a4f4-1534fd440766",
   "metadata": {},
   "outputs": [
    {
     "data": {
      "text/plain": [
       "Index(['symboling', 'Company', 'fueltype', 'aspiration', 'doornumber',\n",
       "       'carbody', 'drivewheel', 'enginelocation', 'wheelbase', 'carlength',\n",
       "       'carwidth', 'carheight', 'curbweight', 'enginetype', 'cylindernumber',\n",
       "       'enginesize', 'fuelsystem', 'boreratio', 'stroke', 'compressionratio',\n",
       "       'horsepower', 'peakrpm', 'price', 'total_mpg'],\n",
       "      dtype='object')"
      ]
     },
     "execution_count": 59,
     "metadata": {},
     "output_type": "execute_result"
    }
   ],
   "source": [
    "train.columns"
   ]
  },
  {
   "cell_type": "code",
   "execution_count": 60,
   "id": "9bb3bdea-ddd0-4ec1-8e5c-ef54c2535abd",
   "metadata": {},
   "outputs": [],
   "source": [
    "#train.drop(['symboling','aspiration','aspiration','enginelocation','wheelbase','carlength','carwidth',\n",
    " #                   'carheight','curbweight','cylindernumber','enginesize','fuelsystem','boreratio','stroke',\n",
    "  #                  'compressionratio','peakrpm'],axis=1,inplace=True)"
   ]
  },
  {
   "cell_type": "code",
   "execution_count": 61,
   "id": "088ecfad-600b-465e-86af-60f83b30de08",
   "metadata": {},
   "outputs": [],
   "source": [
    "train.drop(['symboling','aspiration','aspiration','enginelocation','cylindernumber','boreratio','stroke',\n",
    "                    'compressionratio','enginesize','fuelsystem'],axis=1,inplace=True)"
   ]
  },
  {
   "cell_type": "code",
   "execution_count": 62,
   "id": "9d213fe9-afe6-4d9d-b0ca-6d2e30e6503d",
   "metadata": {},
   "outputs": [
    {
     "data": {
      "text/plain": [
       "Index(['Company', 'fueltype', 'doornumber', 'carbody', 'drivewheel',\n",
       "       'wheelbase', 'carlength', 'carwidth', 'carheight', 'curbweight',\n",
       "       'enginetype', 'horsepower', 'peakrpm', 'price', 'total_mpg'],\n",
       "      dtype='object')"
      ]
     },
     "execution_count": 62,
     "metadata": {},
     "output_type": "execute_result"
    }
   ],
   "source": [
    "train.columns"
   ]
  },
  {
   "cell_type": "code",
   "execution_count": 63,
   "id": "97527a85-6787-4b49-bc87-6107619c0ebf",
   "metadata": {},
   "outputs": [
    {
     "data": {
      "text/plain": [
       "(153, 15)"
      ]
     },
     "execution_count": 63,
     "metadata": {},
     "output_type": "execute_result"
    }
   ],
   "source": [
    "train.shape"
   ]
  },
  {
   "cell_type": "code",
   "execution_count": 64,
   "id": "ff6968f3-2bba-4444-98f1-490c691b1c54",
   "metadata": {},
   "outputs": [],
   "source": [
    "#test.drop(['symboling','aspiration','aspiration','enginelocation','wheelbase','carlength','carwidth',\n",
    " #                   'carheight','curbweight','cylindernumber','enginesize','fuelsystem','boreratio','stroke',\n",
    "  #                  'compressionratio','peakrpm'],axis=1,inplace=True)"
   ]
  },
  {
   "cell_type": "code",
   "execution_count": 65,
   "id": "dc32633d-0cb6-4bfa-89a2-92438a689872",
   "metadata": {},
   "outputs": [],
   "source": [
    "test.drop(['symboling','aspiration','aspiration','enginelocation','cylindernumber','boreratio','stroke',\n",
    "                    'compressionratio','enginesize','fuelsystem'],axis=1,inplace=True)"
   ]
  },
  {
   "cell_type": "code",
   "execution_count": 66,
   "id": "5457f439-69db-4340-9cd0-03f9299b5c69",
   "metadata": {},
   "outputs": [
    {
     "data": {
      "text/plain": [
       "(52, 15)"
      ]
     },
     "execution_count": 66,
     "metadata": {},
     "output_type": "execute_result"
    }
   ],
   "source": [
    "test.shape"
   ]
  },
  {
   "cell_type": "code",
   "execution_count": 67,
   "id": "46a1b278-1d69-4d6d-81b0-b4a7dc05f7da",
   "metadata": {},
   "outputs": [
    {
     "data": {
      "text/plain": [
       "Index(['Company', 'fueltype', 'doornumber', 'carbody', 'drivewheel',\n",
       "       'wheelbase', 'carlength', 'carwidth', 'carheight', 'curbweight',\n",
       "       'enginetype', 'horsepower', 'peakrpm', 'price', 'total_mpg'],\n",
       "      dtype='object')"
      ]
     },
     "execution_count": 67,
     "metadata": {},
     "output_type": "execute_result"
    }
   ],
   "source": [
    "test.columns"
   ]
  },
  {
   "cell_type": "code",
   "execution_count": 68,
   "id": "727852fd-9dce-43e3-97a6-106c02670efe",
   "metadata": {},
   "outputs": [
    {
     "data": {
      "text/plain": [
       "(153, 49)"
      ]
     },
     "execution_count": 68,
     "metadata": {},
     "output_type": "execute_result"
    }
   ],
   "source": [
    "train=pd.get_dummies(train)\n",
    "train.shape"
   ]
  },
  {
   "cell_type": "code",
   "execution_count": 69,
   "id": "668efb3b-0821-4a54-b96f-cc60f7f54106",
   "metadata": {},
   "outputs": [],
   "source": [
    "#train"
   ]
  },
  {
   "cell_type": "code",
   "execution_count": 70,
   "id": "eadeccb5-7f0c-473d-97fa-d889e3e56cbd",
   "metadata": {},
   "outputs": [
    {
     "data": {
      "text/plain": [
       "(52, 45)"
      ]
     },
     "execution_count": 70,
     "metadata": {},
     "output_type": "execute_result"
    }
   ],
   "source": [
    "test=pd.get_dummies(test)\n",
    "test.shape"
   ]
  },
  {
   "cell_type": "code",
   "execution_count": 71,
   "id": "a453e8ee-c651-41f1-b93c-3d46587f7bd9",
   "metadata": {},
   "outputs": [
    {
     "data": {
      "text/plain": [
       "Index(['Company_alfa-romero', 'Company_audi', 'Company_bmw', 'Company_buick',\n",
       "       'Company_chevrolet', 'Company_dodge', 'Company_honda', 'Company_isuzu',\n",
       "       'Company_jaguar', 'Company_mazda', 'Company_mercury',\n",
       "       'Company_mitsubishi', 'Company_nissan', 'Company_peugeot',\n",
       "       'Company_plymouth', 'Company_porsche', 'Company_renault',\n",
       "       'Company_saab', 'Company_subaru', 'Company_toyota',\n",
       "       'Company_volkswagen', 'Company_volvo', 'carbody_convertible',\n",
       "       'carbody_hardtop', 'carbody_hatchback', 'carbody_sedan',\n",
       "       'carbody_wagon', 'carheight', 'carlength', 'carwidth', 'curbweight',\n",
       "       'doornumber_four', 'doornumber_two', 'drivewheel_4wd', 'drivewheel_fwd',\n",
       "       'drivewheel_rwd', 'enginetype_dohc', 'enginetype_l', 'enginetype_ohc',\n",
       "       'enginetype_ohcf', 'enginetype_ohcv', 'enginetype_rotor',\n",
       "       'fueltype_diesel', 'fueltype_gas', 'horsepower', 'peakrpm', 'price',\n",
       "       'total_mpg', 'wheelbase'],\n",
       "      dtype='object')"
      ]
     },
     "execution_count": 71,
     "metadata": {},
     "output_type": "execute_result"
    }
   ],
   "source": [
    "train.columns.sort_values(ascending=True)"
   ]
  },
  {
   "cell_type": "code",
   "execution_count": 72,
   "id": "9814b590-d97e-4b4e-9676-361b2cdae30f",
   "metadata": {},
   "outputs": [
    {
     "data": {
      "text/plain": [
       "Index(['Company_alfa-romero', 'Company_audi', 'Company_bmw', 'Company_buick',\n",
       "       'Company_dodge', 'Company_honda', 'Company_isuzu', 'Company_jaguar',\n",
       "       'Company_mazda', 'Company_mitsubishi', 'Company_nissan',\n",
       "       'Company_plymouth', 'Company_porsche', 'Company_saab', 'Company_subaru',\n",
       "       'Company_toyota', 'Company_volkswagen', 'Company_volvo',\n",
       "       'carbody_convertible', 'carbody_hardtop', 'carbody_hatchback',\n",
       "       'carbody_sedan', 'carbody_wagon', 'carheight', 'carlength', 'carwidth',\n",
       "       'curbweight', 'doornumber_four', 'doornumber_two', 'drivewheel_4wd',\n",
       "       'drivewheel_fwd', 'drivewheel_rwd', 'enginetype_dohc',\n",
       "       'enginetype_dohcv', 'enginetype_ohc', 'enginetype_ohcf',\n",
       "       'enginetype_ohcv', 'enginetype_rotor', 'fueltype_diesel',\n",
       "       'fueltype_gas', 'horsepower', 'peakrpm', 'price', 'total_mpg',\n",
       "       'wheelbase'],\n",
       "      dtype='object')"
      ]
     },
     "execution_count": 72,
     "metadata": {},
     "output_type": "execute_result"
    }
   ],
   "source": [
    "test.columns.sort_values(ascending=True)"
   ]
  },
  {
   "cell_type": "code",
   "execution_count": 73,
   "id": "7e7d1285-be3c-4fdc-935b-9d3693daf740",
   "metadata": {},
   "outputs": [],
   "source": [
    "train.drop(['Company_chevrolet','Company_mercury','Company_peugeot','Company_renault','enginetype_l'],axis=1,inplace=True)\n",
    "test.drop(['enginetype_dohcv'],axis=1,inplace=True)"
   ]
  },
  {
   "cell_type": "code",
   "execution_count": 74,
   "id": "fc2731d9-34ea-492b-b466-beec2811c7d5",
   "metadata": {},
   "outputs": [
    {
     "data": {
      "text/plain": [
       "(153, 44)"
      ]
     },
     "execution_count": 74,
     "metadata": {},
     "output_type": "execute_result"
    }
   ],
   "source": [
    "train.shape"
   ]
  },
  {
   "cell_type": "code",
   "execution_count": 75,
   "id": "bb2783fc-00b4-4d7e-ba7f-79b371134d3d",
   "metadata": {},
   "outputs": [
    {
     "data": {
      "text/plain": [
       "(52, 44)"
      ]
     },
     "execution_count": 75,
     "metadata": {},
     "output_type": "execute_result"
    }
   ],
   "source": [
    "test.shape"
   ]
  },
  {
   "cell_type": "code",
   "execution_count": 76,
   "id": "7ad777da-9c04-4a3a-93c5-32fbe9465143",
   "metadata": {},
   "outputs": [],
   "source": [
    "from sklearn.model_selection import train_test_split\n",
    "\n",
    "#np.random.seed(0)\n",
    "#training, Valid= train_test_split(train, train_size = 0.7, test_size = 0.3, random_state = 100)"
   ]
  },
  {
   "cell_type": "code",
   "execution_count": 77,
   "id": "fc35d0b6-455a-4231-8f8b-b3786b3061ce",
   "metadata": {},
   "outputs": [],
   "source": [
    "y_training = train.pop('price')\n",
    "x_training = train"
   ]
  },
  {
   "cell_type": "code",
   "execution_count": 78,
   "id": "819d378a-06b3-4e22-a6ce-a5cba4313b8e",
   "metadata": {},
   "outputs": [],
   "source": [
    "#from sklearn.linear_model import LinearRegression\n",
    "#model = LinearRegression().fit(x_training, y_training)"
   ]
  },
  {
   "cell_type": "code",
   "execution_count": 79,
   "id": "51ca5b08-2447-4c48-91fd-058d8751edb1",
   "metadata": {},
   "outputs": [],
   "source": [
    "#r_sq = model.score(x_training, y_training)\n",
    "#print('coefficient of determination:', r_sq)"
   ]
  },
  {
   "cell_type": "code",
   "execution_count": 80,
   "id": "3ef26059-e5c3-4bfa-9e2e-19f6d60beb27",
   "metadata": {},
   "outputs": [],
   "source": [
    "#y_Valid = Valid.pop('price')\n",
    "#x_Valid = Valid"
   ]
  },
  {
   "cell_type": "code",
   "execution_count": null,
   "id": "2c3ddce3-98c1-4545-86b5-896593a36310",
   "metadata": {},
   "outputs": [],
   "source": []
  },
  {
   "cell_type": "code",
   "execution_count": 81,
   "id": "5438baa4-a320-4900-973b-60b4b13b53ea",
   "metadata": {},
   "outputs": [],
   "source": [
    "#y_pred = model.predict(x_Valid)"
   ]
  },
  {
   "cell_type": "code",
   "execution_count": 82,
   "id": "0996dfa5-a4d9-4ae6-91fe-c9b6d65e457f",
   "metadata": {},
   "outputs": [],
   "source": [
    "#print(\"RMS: %r \" % np.sqrt(np.mean((y_pred - y_Valid) ** 2)))"
   ]
  },
  {
   "cell_type": "code",
   "execution_count": 83,
   "id": "75fcf0e5-ea23-48a3-b86d-0ab023fe633c",
   "metadata": {},
   "outputs": [],
   "source": [
    "y_data = test.pop('price')\n",
    "x_data = test"
   ]
  },
  {
   "cell_type": "code",
   "execution_count": 84,
   "id": "970f468f-4a43-4cca-b30f-949cdcdf924d",
   "metadata": {},
   "outputs": [],
   "source": [
    "from sklearn.ensemble import RandomForestRegressor\n",
    "rfr=RandomForestRegressor(n_estimators=100,random_state=72)\n",
    "rfr.fit(x_training,y_training)\n",
    "predict=rfr.predict(x_data)\n",
    "Predictions=pd.DataFrame(predict)"
   ]
  },
  {
   "cell_type": "code",
   "execution_count": 85,
   "id": "7723023e-68e9-4487-8f97-31f70d6b3319",
   "metadata": {},
   "outputs": [],
   "source": [
    "#Predictions = model.predict(x_data)"
   ]
  },
  {
   "cell_type": "code",
   "execution_count": 86,
   "id": "f0c70611-6dfd-429e-abee-3733d72bd11c",
   "metadata": {},
   "outputs": [],
   "source": [
    "#Predictions=pd.DataFrame(Predictions)"
   ]
  },
  {
   "cell_type": "code",
   "execution_count": 88,
   "id": "faa7ba49-c48c-4c99-9638-7c861dec6301",
   "metadata": {},
   "outputs": [],
   "source": [
    "Predictions.to_csv(\"file9.csv\", index = None,header=\"True\")"
   ]
  },
  {
   "cell_type": "code",
   "execution_count": null,
   "id": "945f366b-b658-4fb7-a90c-3a9a23b66377",
   "metadata": {},
   "outputs": [],
   "source": [
    "\n"
   ]
  }
 ],
 "metadata": {
  "kernelspec": {
   "display_name": "Python 3",
   "language": "python",
   "name": "python3"
  },
  "language_info": {
   "codemirror_mode": {
    "name": "ipython",
    "version": 3
   },
   "file_extension": ".py",
   "mimetype": "text/x-python",
   "name": "python",
   "nbconvert_exporter": "python",
   "pygments_lexer": "ipython3",
   "version": "3.8.8"
  }
 },
 "nbformat": 4,
 "nbformat_minor": 5
}
